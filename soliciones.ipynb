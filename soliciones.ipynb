{
 "cells": [
  {
   "cell_type": "code",
   "execution_count": 2,
   "metadata": {},
   "outputs": [
    {
     "name": "stdout",
     "output_type": "stream",
     "text": [
      "9  x  0  =  0\n",
      "9  x  1  =  9\n",
      "9  x  2  =  18\n",
      "9  x  3  =  27\n",
      "9  x  4  =  36\n",
      "9  x  5  =  45\n",
      "9  x  6  =  54\n",
      "9  x  7  =  63\n",
      "9  x  8  =  72\n",
      "9  x  9  =  81\n",
      "9  x  10  =  90\n"
     ]
    }
   ],
   "source": [
    "numero= int(input(\"introducir numero\"))\n",
    "\n",
    "for i in range (0,11):\n",
    "    resultado = i * numero\n",
    "    print(numero, \" x \", i, \" = \", resultado )"
   ]
  },
  {
   "cell_type": "code",
   "execution_count": 10,
   "metadata": {},
   "outputs": [
    {
     "name": "stdout",
     "output_type": "stream",
     "text": [
      "Tabla de potencias del número 12:\n",
      "12 ^ 1 = 12\n",
      "12 ^ 2 = 144\n",
      "12 ^ 3 = 1728\n",
      "12 ^ 4 = 20736\n",
      "12 ^ 5 = 248832\n",
      "12 ^ 6 = 2985984\n",
      "12 ^ 7 = 35831808\n",
      "12 ^ 8 = 429981696\n",
      "12 ^ 9 = 5159780352\n",
      "12 ^ 10 = 61917364224\n"
     ]
    }
   ],
   "source": [
    "# Pide al usuario un número base y muestra la tabla de potencias de ese número (desde la potencia 1 hasta 10)\n",
    "numero = int(input(\"Introduce un número: \"))\n",
    "\n",
    "print(f\"Tabla de potencias del número {numero}:\")\n",
    "\n",
    "for i in range(1, 11):\n",
    "    print(f\"{numero} ^ {i} = {numero ** i}\")\n"
   ]
  },
  {
   "cell_type": "code",
   "execution_count": 1,
   "metadata": {},
   "outputs": [
    {
     "name": "stdout",
     "output_type": "stream",
     "text": [
      "1\n",
      "2\n",
      "3\n",
      "4\n",
      "5\n",
      "6\n",
      "7\n",
      "8\n",
      "9\n",
      "10\n"
     ]
    }
   ],
   "source": [
    "#Ejercicio3\n",
    "for i in range(1, 11):\n",
    "    print(i)\n"
   ]
  },
  {
   "cell_type": "code",
   "execution_count": 2,
   "metadata": {},
   "outputs": [
    {
     "name": "stdout",
     "output_type": "stream",
     "text": [
      "10\n",
      "9\n",
      "8\n",
      "7\n",
      "6\n",
      "5\n",
      "4\n",
      "3\n",
      "2\n",
      "1\n"
     ]
    }
   ],
   "source": [
    "# Ejercicio4\n",
    "for i in range(10, 0, -1):\n",
    "    print(i)\n"
   ]
  },
  {
   "cell_type": "code",
   "execution_count": 3,
   "metadata": {},
   "outputs": [
    {
     "name": "stdout",
     "output_type": "stream",
     "text": [
      "2\n",
      "4\n",
      "6\n",
      "8\n",
      "10\n",
      "12\n",
      "14\n",
      "16\n",
      "18\n",
      "20\n",
      "22\n",
      "24\n",
      "26\n",
      "28\n",
      "30\n",
      "32\n",
      "34\n",
      "36\n",
      "38\n",
      "40\n",
      "42\n",
      "44\n",
      "46\n",
      "48\n",
      "50\n",
      "52\n",
      "54\n",
      "56\n",
      "58\n",
      "60\n"
     ]
    }
   ],
   "source": [
    "# ejercicio5:Imprimir números pares hasta un número dado \n",
    "n = int(input(\"Introduce un número: \"))\n",
    "for i in range(2, n+1, 2):\n",
    "    print(i)\n"
   ]
  },
  {
   "cell_type": "code",
   "execution_count": 4,
   "metadata": {},
   "outputs": [
    {
     "name": "stdout",
     "output_type": "stream",
     "text": [
      "23 es primo\n"
     ]
    }
   ],
   "source": [
    "# Ejercicio6:Función para verificar si un número es primo\n",
    "def es_primo(num):\n",
    "    if num < 2:\n",
    "        return False\n",
    "    for i in range(2, int(num ** 0.5) + 1):\n",
    "        if num % i == 0:\n",
    "            return False\n",
    "    return True\n",
    "\n",
    "\n",
    "numero = int(input(\"Introduce un número para verificar si es primo: \"))\n",
    "if es_primo(numero):\n",
    "    print(f\"{numero} es primo\")\n",
    "else:\n",
    "    print(f\"{numero} no es primo\")\n"
   ]
  },
  {
   "cell_type": "code",
   "execution_count": 5,
   "metadata": {},
   "outputs": [
    {
     "name": "stdout",
     "output_type": "stream",
     "text": [
      "hola\n",
      "hola\n",
      "hola\n",
      "hola\n",
      "hola\n",
      "hola\n",
      "hola\n",
      "hola\n",
      "hola\n",
      "hola\n"
     ]
    }
   ],
   "source": [
    "# Ejercicio7:Pide una palabra y la imprime 10 veces\n",
    "palabra = input(\"Introduce una palabra: \")\n",
    "for i in range(10):\n",
    "    print(palabra)\n"
   ]
  },
  {
   "cell_type": "code",
   "execution_count": 6,
   "metadata": {},
   "outputs": [
    {
     "name": "stdout",
     "output_type": "stream",
     "text": [
      "Has cumplido 1 años\n",
      "Has cumplido 2 años\n",
      "Has cumplido 3 años\n",
      "Has cumplido 4 años\n",
      "Has cumplido 5 años\n",
      "Has cumplido 6 años\n",
      "Has cumplido 7 años\n",
      "Has cumplido 8 años\n",
      "Has cumplido 9 años\n",
      "Has cumplido 10 años\n"
     ]
    }
   ],
   "source": [
    "# Ejercicicio8:Pide la edad del usuario y muestra los años que ha cumplido\n",
    "edad = int(input(\"Introduce tu edad: \"))\n",
    "for i in range(1, edad+1):\n",
    "    print(f\"Has cumplido {i} años\")\n"
   ]
  },
  {
   "cell_type": "code",
   "execution_count": 7,
   "metadata": {},
   "outputs": [
    {
     "name": "stdout",
     "output_type": "stream",
     "text": [
      "1, 3, 5, 7, 9, 11, 13, 15, 17, 19, 21, 23, 25, 27, 29, 31, 33, 35, 37, 39\n"
     ]
    }
   ],
   "source": [
    "# Ejercicio9:Pide un número entero positivo y muestra todos los números impares hasta ese número\n",
    "n = int(input(\"Introduce un número entero positivo: \"))\n",
    "impares = [str(i) for i in range(1, n+1) if i % 2 != 0]\n",
    "print(\", \".join(impares))\n"
   ]
  },
  {
   "cell_type": "code",
   "execution_count": 8,
   "metadata": {},
   "outputs": [
    {
     "name": "stdout",
     "output_type": "stream",
     "text": [
      "40, 39, 38, 37, 36, 35, 34, 33, 32, 31, 30, 29, 28, 27, 26, 25, 24, 23, 22, 21, 20, 19, 18, 17, 16, 15, 14, 13, 12, 11, 10, 9, 8, 7, 6, 5, 4, 3, 2, 1, 0"
     ]
    }
   ],
   "source": [
    "#Ejercicio10: Pide un número entero positivo y muestra la cuenta atrás hasta cero\n",
    "n = int(input(\"Introduce un número entero positivo: \"))\n",
    "for i in range(n, -1, -1):\n",
    "    print(i, end=\", \" if i > 0 else \"\")\n"
   ]
  },
  {
   "cell_type": "code",
   "execution_count": 9,
   "metadata": {},
   "outputs": [
    {
     "name": "stdout",
     "output_type": "stream",
     "text": [
      "El monto total después de 12 años será: 25181.70\n"
     ]
    }
   ],
   "source": [
    "# Ejercicio11:Pide una cantidad a invertir, el interés anual y el número de años, y muestra el total al final\n",
    "cantidad = float(input(\"Introduce la cantidad a invertir: \"))\n",
    "interes = float(input(\"Introduce el interés anual (%): \")) / 100\n",
    "años = int(input(\"Introduce el número de años: \"))\n",
    "\n",
    "total = cantidad * (1 + interes) ** años\n",
    "print(f\"El monto total después de {años} años será: {total:.2f}\")\n"
   ]
  }
 ],
 "metadata": {
  "kernelspec": {
   "display_name": "Python 3",
   "language": "python",
   "name": "python3"
  },
  "language_info": {
   "codemirror_mode": {
    "name": "ipython",
    "version": 3
   },
   "file_extension": ".py",
   "mimetype": "text/x-python",
   "name": "python",
   "nbconvert_exporter": "python",
   "pygments_lexer": "ipython3",
   "version": "3.12.4"
  }
 },
 "nbformat": 4,
 "nbformat_minor": 2
}
